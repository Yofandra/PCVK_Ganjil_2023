{
  "nbformat": 4,
  "nbformat_minor": 0,
  "metadata": {
    "colab": {
      "provenance": [],
      "authorship_tag": "ABX9TyO0YzSIFOwTN3maUN6FM9zA",
      "include_colab_link": true
    },
    "kernelspec": {
      "name": "python3",
      "display_name": "Python 3"
    },
    "language_info": {
      "name": "python"
    }
  },
  "cells": [
    {
      "cell_type": "markdown",
      "metadata": {
        "id": "view-in-github",
        "colab_type": "text"
      },
      "source": [
        "<a href=\"https://colab.research.google.com/github/Yofandra/PCVK_Ganjil_2023/blob/main/Week_11.ipynb\" target=\"_parent\"><img src=\"https://colab.research.google.com/assets/colab-badge.svg\" alt=\"Open In Colab\"/></a>"
      ]
    },
    {
      "cell_type": "code",
      "execution_count": 40,
      "metadata": {
        "id": "RwXma_0bGK3X",
        "outputId": "7ba59a7a-1952-4b50-94f2-159adac56db2",
        "colab": {
          "base_uri": "https://localhost:8080/"
        }
      },
      "outputs": [
        {
          "output_type": "stream",
          "name": "stdout",
          "text": [
            "Drive already mounted at /content/drive; to attempt to forcibly remount, call drive.mount(\"/content/drive\", force_remount=True).\n"
          ]
        }
      ],
      "source": [
        "from google.colab import drive\n",
        "drive.mount('/content/drive')"
      ]
    },
    {
      "cell_type": "code",
      "source": [
        "import cv2\n",
        "import numpy as np\n",
        "from matplotlib import pyplot as plt\n",
        "import os\n",
        "from google.colab.patches import cv2_imshow"
      ],
      "metadata": {
        "id": "CYcQQpbDJGhA"
      },
      "execution_count": 41,
      "outputs": []
    },
    {
      "cell_type": "markdown",
      "source": [
        "#### Pengayaan Materi KTP"
      ],
      "metadata": {
        "id": "1AH4L6fcbxz6"
      }
    },
    {
      "cell_type": "markdown",
      "source": [
        "##### No. 1-5"
      ],
      "metadata": {
        "id": "F2e7OcbXb6bR"
      }
    },
    {
      "cell_type": "code",
      "source": [
        "path_plate = ('/content/drive/MyDrive/PCVK_MM/Images/ktp/dataset/sliced')\n",
        "\n",
        "#Looping file di direktori\n",
        "for name_file in sorted(os.listdir(path_plate)):\n",
        " src = cv2.imread(os.path.join(path_plate, name_file))\n",
        " blurred = src.copy()\n",
        " gray = blurred.copy()\n",
        "\n",
        " # Filtering\n",
        "for i in range(10):\n",
        " blurred = cv2.GaussianBlur(src, (5, 5), 0.5)\n",
        "\n",
        " # Ubah ke grayscale\n",
        "gray = cv2.cvtColor(blurred, cv2.COLOR_BGR2GRAY)\n",
        "ret, bw = cv2.threshold(gray.copy(), 0, 255, cv2.THRESH_BINARY + cv2.THRESH_OTSU)\n",
        "print(ret, bw.shape)\n",
        "cv2_imshow(bw)"
      ],
      "metadata": {
        "id": "hFzMIZMUKuBl",
        "outputId": "e5eeb93c-aa03-404e-d517-11d924d391f2",
        "colab": {
          "base_uri": "https://localhost:8080/",
          "height": 334
        }
      },
      "execution_count": 44,
      "outputs": [
        {
          "output_type": "stream",
          "name": "stdout",
          "text": [
            "168.0 (300, 493)\n"
          ]
        },
        {
          "output_type": "display_data",
          "data": {
            "text/plain": [
              "<PIL.Image.Image image mode=L size=493x300>"
            ],
            "image/png": "[encoded data removed]"
          },
          "metadata": {}
        }
      ]
    },
    {
      "cell_type": "markdown",
      "source": [
        "##### No.6"
      ],
      "metadata": {
        "id": "EJeLsH1Jb9dI"
      }
    },
    {
      "cell_type": "code",
      "source": [],
      "metadata": {
        "id": "OJDi5E9Ob_rQ"
      },
      "execution_count": null,
      "outputs": []
    },
    {
      "cell_type": "markdown",
      "source": [
        "##### No.7"
      ],
      "metadata": {
        "id": "1CmVNuCMcAHf"
      }
    },
    {
      "cell_type": "code",
      "source": [
        "# Baca citra\n",
        "img = cv2.imread('/content/drive/MyDrive/PCVK_MM/Images/ktp/ktp3.png', cv2.IMREAD_GRAYSCALE)\n",
        "\n",
        "# Lakukan thresholding biner pada citra\n",
        "_, threshold = cv2.threshold(img, 127, 255, cv2.THRESH_BINARY)\n",
        "\n",
        "# Temukan kontur pada citra threshold\n",
        "contours, _ = cv2.findContours(threshold, cv2.RETR_TREE, cv2.CHAIN_APPROX_SIMPLE)\n",
        "\n",
        "# Gambar kontur pada citra asli\n",
        "cv2.drawContours(img, contours, -1, (0,255,0), 3)\n",
        "\n",
        "# Tampilkan citra\n",
        "cv2_imshow(img)\n",
        "cv2.waitKey(0)\n",
        "cv2.destroyAllWindows()"
      ],
      "metadata": {
        "id": "fS5DiWFicB_w",
        "outputId": "3231e33f-4c6c-4ed3-a1dd-bf33a6e07f7a",
        "colab": {
          "base_uri": "https://localhost:8080/",
          "height": 262
        }
      },
      "execution_count": 38,
      "outputs": [
        {
          "output_type": "error",
          "ename": "error",
          "evalue": "ignored",
          "traceback": [
            "\u001b[0;31m---------------------------------------------------------------------------\u001b[0m",
            "\u001b[0;31merror\u001b[0m                                     Traceback (most recent call last)",
            "\u001b[0;32m<ipython-input-38-294c3fc08342>\u001b[0m in \u001b[0;36m<cell line: 8>\u001b[0;34m()\u001b[0m\n\u001b[1;32m      6\u001b[0m \u001b[0;34m\u001b[0m\u001b[0m\n\u001b[1;32m      7\u001b[0m \u001b[0;31m# Temukan kontur pada citra threshold\u001b[0m\u001b[0;34m\u001b[0m\u001b[0;34m\u001b[0m\u001b[0m\n\u001b[0;32m----> 8\u001b[0;31m \u001b[0mcontours\u001b[0m\u001b[0;34m,\u001b[0m \u001b[0m_\u001b[0m \u001b[0;34m=\u001b[0m \u001b[0mcv2\u001b[0m\u001b[0;34m.\u001b[0m\u001b[0mfindContours\u001b[0m\u001b[0;34m(\u001b[0m\u001b[0mthreshold\u001b[0m\u001b[0;34m,\u001b[0m \u001b[0mcv2\u001b[0m\u001b[0;34m.\u001b[0m\u001b[0mRETR_TREE\u001b[0m\u001b[0;34m,\u001b[0m \u001b[0mcv2\u001b[0m\u001b[0;34m.\u001b[0m\u001b[0mCHAIN_APPROX_SIMPLE\u001b[0m\u001b[0;34m)\u001b[0m\u001b[0;34m\u001b[0m\u001b[0;34m\u001b[0m\u001b[0m\n\u001b[0m\u001b[1;32m      9\u001b[0m \u001b[0;34m\u001b[0m\u001b[0m\n\u001b[1;32m     10\u001b[0m \u001b[0;31m# Gambar kontur pada citra asli\u001b[0m\u001b[0;34m\u001b[0m\u001b[0;34m\u001b[0m\u001b[0m\n",
            "\u001b[0;31merror\u001b[0m: OpenCV(4.8.0) /io/opencv/modules/imgproc/src/contours.cpp:195: error: (-210:Unsupported format or combination of formats) [Start]FindContours supports only CV_8UC1 images when mode != CV_RETR_FLOODFILL otherwise supports CV_32SC1 images only in function 'cvStartFindContours_Impl'\n"
          ]
        }
      ]
    }
  ]
}